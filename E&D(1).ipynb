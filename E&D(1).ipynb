{
  "nbformat": 4,
  "nbformat_minor": 0,
  "metadata": {
    "colab": {
      "provenance": []
    },
    "kernelspec": {
      "name": "python3",
      "display_name": "Python 3"
    },
    "language_info": {
      "name": "python"
    }
  },
  "cells": [
    {
      "cell_type": "code",
      "execution_count": 3,
      "metadata": {
        "colab": {
          "base_uri": "https://localhost:8080/"
        },
        "id": "-01QnuHT-2GE",
        "outputId": "2df6ca7b-ab42-4d28-d58e-f77c43632a51"
      },
      "outputs": [
        {
          "output_type": "stream",
          "name": "stdout",
          "text": [
            "=== Caesar Cipher Encryption and Decryption ===\n",
            "Enter your message: Hello\n",
            "Enter shift value (example: 3): 45\n",
            "Type 'encrypt' to encrypt or 'decrypt' to decrypt: encrypt\n",
            "🔐 Result: Axeeh\n"
          ]
        }
      ],
      "source": [
        "def caesar_cipher(message, shift, choice):\n",
        "    result = \"\"\n",
        "\n",
        "    if choice.lower() == 'decrypt':\n",
        "        shift = -shift\n",
        "\n",
        "    for char in message:\n",
        "        if char.isalpha():\n",
        "            if char.isupper():\n",
        "                new_char = chr((ord(char) - 65 + shift) % 26 + 65)\n",
        "                result += new_char\n",
        "            elif char.islower():\n",
        "                new_char = chr((ord(char) - 97 + shift) % 26 + 97)\n",
        "                result += new_char\n",
        "        else:\n",
        "            result += char\n",
        "\n",
        "    return result\n",
        "\n",
        "print(\"=== Caesar Cipher Encryption and Decryption ===\")\n",
        "\n",
        "# Get input from the user\n",
        "message = input(\"Enter your message: \")\n",
        "shift = int(input(\"Enter shift value (example: 3): \"))\n",
        "choice = input(\"Type 'encrypt' to encrypt or 'decrypt' to decrypt: \")\n",
        "\n",
        "#  print result\n",
        "output = caesar_cipher(message, shift, choice)\n",
        "print(\"🔐 Result:\", output)\n"
      ]
    },
    {
      "cell_type": "code",
      "source": [],
      "metadata": {
        "id": "w5t8LeaqM7dY"
      },
      "execution_count": null,
      "outputs": []
    }
  ]
}