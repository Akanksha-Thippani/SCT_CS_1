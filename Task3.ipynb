{
  "nbformat": 4,
  "nbformat_minor": 0,
  "metadata": {
    "colab": {
      "provenance": [],
      "authorship_tag": "ABX9TyMWXqPpdgaeBRVX4X+TM30f",
      "include_colab_link": true
    },
    "kernelspec": {
      "name": "python3",
      "display_name": "Python 3"
    },
    "language_info": {
      "name": "python"
    }
  },
  "cells": [
    {
      "cell_type": "markdown",
      "metadata": {
        "id": "view-in-github",
        "colab_type": "text"
      },
      "source": [
        "<a href=\"https://colab.research.google.com/github/Akanksha-Thippani/Cyber-Security/blob/main/Task3.ipynb\" target=\"_parent\"><img src=\"https://colab.research.google.com/assets/colab-badge.svg\" alt=\"Open In Colab\"/></a>"
      ]
    },
    {
      "cell_type": "code",
      "execution_count": 5,
      "metadata": {
        "colab": {
          "base_uri": "https://localhost:8080/"
        },
        "id": "hfQdq5zra6Tm",
        "outputId": "25e77288-dbc7-46a8-a43c-eaa5490fedd3"
      },
      "outputs": [
        {
          "output_type": "stream",
          "name": "stdout",
          "text": [
            "Enter your password: somya\n",
            "Weak Password\n"
          ]
        }
      ],
      "source": [
        "def check_password_strength(password):\n",
        "    strength = 0\n",
        "\n",
        "    if len(password) >= 8:\n",
        "        strength += 1\n",
        "    if any(c.islower() for c in password):\n",
        "        strength += 1\n",
        "    if any(c.isupper() for c in password):\n",
        "        strength += 1\n",
        "    if any(c.isdigit() for c in password):\n",
        "        strength += 1\n",
        "    if any(c in \"!@#$%^&*()-_=+[]{};:'\\\",.<>?/|`~\" for c in password):\n",
        "        strength += 1\n",
        "\n",
        "    if strength <= 2:\n",
        "        print(\"Weak Password\")\n",
        "    elif strength == 3:\n",
        "        print(\"Moderate Password\")\n",
        "    else:\n",
        "        print(\"Strong Password\")\n",
        "\n",
        "pwd = input(\"Enter your password: \")\n",
        "check_password_strength(pwd)\n"
      ]
    }
  ]
}